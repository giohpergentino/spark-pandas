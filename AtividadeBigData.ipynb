{
  "nbformat": 4,
  "nbformat_minor": 0,
  "metadata": {
    "colab": {
      "provenance": []
    },
    "kernelspec": {
      "name": "python3",
      "display_name": "Python 3"
    },
    "language_info": {
      "name": "python"
    }
  },
  "cells": [
    {
      "cell_type": "markdown",
      "source": [
        "# **1. Datasets Utilizados**"
      ],
      "metadata": {
        "id": "Ay5Vl0fWf63a"
      }
    },
    {
      "cell_type": "code",
      "execution_count": 1,
      "metadata": {
        "colab": {
          "base_uri": "https://localhost:8080/"
        },
        "id": "nyKuIJj1fZBS",
        "outputId": "d7a0dbc6-f770-4c10-fa04-d3085ae2cc70"
      },
      "outputs": [
        {
          "output_type": "stream",
          "name": "stdout",
          "text": [
            "Requirement already satisfied: pyspark in /usr/local/lib/python3.10/dist-packages (3.5.3)\n",
            "Requirement already satisfied: py4j==0.10.9.7 in /usr/local/lib/python3.10/dist-packages (from pyspark) (0.10.9.7)\n"
          ]
        }
      ],
      "source": [
        "# Instalar PySpark via pip\n",
        "!pip install pyspark"
      ]
    },
    {
      "cell_type": "code",
      "source": [
        "import kagglehub\n",
        "\n",
        "# Download latest version\n",
        "path = kagglehub.dataset_download(\"satvshr/top-4-used-car-sales-datasets-combined\")\n",
        "\n",
        "print(\"Path to dataset files:\", path)"
      ],
      "metadata": {
        "colab": {
          "base_uri": "https://localhost:8080/"
        },
        "id": "t8oQ93E_gMAU",
        "outputId": "d7f52628-4450-426b-fc9c-eae7d06ea898"
      },
      "execution_count": 8,
      "outputs": [
        {
          "output_type": "stream",
          "name": "stdout",
          "text": [
            "Warning: Looks like you're using an outdated `kagglehub` version, please consider updating (latest version: 0.3.3)\n",
            "Downloading from https://www.kaggle.com/api/v1/datasets/download/satvshr/top-4-used-car-sales-datasets-combined?dataset_version_number=2...\n"
          ]
        },
        {
          "output_type": "stream",
          "name": "stderr",
          "text": [
            "100%|██████████| 446k/446k [00:00<00:00, 73.7MB/s]"
          ]
        },
        {
          "output_type": "stream",
          "name": "stdout",
          "text": [
            "Extracting files...\n",
            "Path to dataset files: /root/.cache/kagglehub/datasets/satvshr/top-4-used-car-sales-datasets-combined/versions/2\n"
          ]
        },
        {
          "output_type": "stream",
          "name": "stderr",
          "text": [
            "\n"
          ]
        }
      ]
    },
    {
      "cell_type": "code",
      "source": [
        "# Iniciar uma Sessão Spark\n",
        "from pyspark.sql import SparkSession\n",
        "\n",
        "spark = SparkSession.builder \\\n",
        "    .appName(\"ExemploPySpark\") \\\n",
        "    .getOrCreate()"
      ],
      "metadata": {
        "id": "xZnMJksDg5lE"
      },
      "execution_count": 3,
      "outputs": []
    },
    {
      "cell_type": "markdown",
      "source": [
        "## **2. Comparando métodos do pandas x métodos do PySpark**"
      ],
      "metadata": {
        "id": "n7NbUOwUg_4K"
      }
    },
    {
      "cell_type": "markdown",
      "source": [
        "**Leitura de Dados:**"
      ],
      "metadata": {
        "id": "5xmxQNB-hRZ9"
      }
    },
    {
      "cell_type": "code",
      "source": [
        "import pandas as pd\n",
        "import os\n",
        "\n",
        "for dirname, _, filenames in os.walk(path):\n",
        "    for filename in filenames:\n",
        "        if filename.endswith('.csv'):\n",
        "            csv_file_path = os.path.join(dirname, filename)\n",
        "            print(f\"Reading CSV file: {csv_file_path}\")\n",
        "            df = pd.read_csv(csv_file_path)\n",
        "            print(df.head())\n",
        "            break"
      ],
      "metadata": {
        "colab": {
          "base_uri": "https://localhost:8080/"
        },
        "id": "fc04k_H5iS1B",
        "outputId": "7c882ec7-7341-499c-bbe8-4385007155e7"
      },
      "execution_count": 13,
      "outputs": [
        {
          "output_type": "stream",
          "name": "stdout",
          "text": [
            "Reading CSV file: /root/.cache/kagglehub/datasets/satvshr/top-4-used-car-sales-datasets-combined/versions/2/output.csv\n",
            "      brand     model transmission  age    fuel  engine       km  owner  \\\n",
            "0  mahindra      thar       manual  4.0  diesel  2184.0  11003.0    1.0   \n",
            "1   hyundai     verna       manual  6.0  petrol  1591.0  66936.0    1.0   \n",
            "2      tata   harrier       manual  2.0  diesel  1956.0  27990.0    1.0   \n",
            "3     honda      city    automatic  1.0  petrol  1498.0   5061.0    1.0   \n",
            "4      ford  ecosport       manual  3.0  diesel  1498.0  23480.0    1.0   \n",
            "\n",
            "       price location  mileage  power  seats type  \n",
            "0  1231000.0      NaN      NaN    NaN    NaN  NaN  \n",
            "1   786000.0      NaN      NaN    NaN    NaN  NaN  \n",
            "2  1489000.0      NaN      NaN    NaN    NaN  NaN  \n",
            "3  1227000.0      NaN      NaN    NaN    NaN  NaN  \n",
            "4   887000.0      NaN      NaN    NaN    NaN  NaN  \n"
          ]
        }
      ]
    },
    {
      "cell_type": "code",
      "source": [
        "from pyspark.sql import SparkSession\n",
        "import os\n",
        "\n",
        "spark = SparkSession.builder.appName(\"CSVReader\").getOrCreate()\n",
        "\n",
        "for dirname, _, filenames in os.walk(path):\n",
        "  for filename in filenames:\n",
        "    if filename.endswith(\".csv\"):\n",
        "      csv_file_path = os.path.join(dirname, filename)\n",
        "      print(f\"Reading CSV file: {csv_file_path}\")\n",
        "\n",
        "      df_pyspark = spark.read.csv(csv_file_path, header=True, inferSchema=True)\n",
        "\n",
        "      df_pyspark.show(5)\n",
        "\n",
        "      break"
      ],
      "metadata": {
        "colab": {
          "base_uri": "https://localhost:8080/"
        },
        "id": "zl9dNdV8kK9I",
        "outputId": "787d961b-5fb5-4aef-86d8-f75fd34e181d"
      },
      "execution_count": 19,
      "outputs": [
        {
          "output_type": "stream",
          "name": "stdout",
          "text": [
            "Reading CSV file: /root/.cache/kagglehub/datasets/satvshr/top-4-used-car-sales-datasets-combined/versions/2/output.csv\n",
            "+--------+--------+------------+---+------+------+-------+-----+---------+--------+-------+-----+-----+----+\n",
            "|   brand|   model|transmission|age|  fuel|engine|     km|owner|    price|location|mileage|power|seats|type|\n",
            "+--------+--------+------------+---+------+------+-------+-----+---------+--------+-------+-----+-----+----+\n",
            "|mahindra|    thar|      manual|4.0|diesel|2184.0|11003.0|  1.0|1231000.0|    NULL|   NULL| NULL| NULL|NULL|\n",
            "| hyundai|   verna|      manual|6.0|petrol|1591.0|66936.0|  1.0| 786000.0|    NULL|   NULL| NULL| NULL|NULL|\n",
            "|    tata| harrier|      manual|2.0|diesel|1956.0|27990.0|  1.0|1489000.0|    NULL|   NULL| NULL| NULL|NULL|\n",
            "|   honda|    city|   automatic|1.0|petrol|1498.0| 5061.0|  1.0|1227000.0|    NULL|   NULL| NULL| NULL|NULL|\n",
            "|    ford|ecosport|      manual|3.0|diesel|1498.0|23480.0|  1.0| 887000.0|    NULL|   NULL| NULL| NULL|NULL|\n",
            "+--------+--------+------------+---+------+------+-------+-----+---------+--------+-------+-----+-----+----+\n",
            "only showing top 5 rows\n",
            "\n"
          ]
        }
      ]
    },
    {
      "cell_type": "code",
      "source": [
        "# Filtrando colunas com Pandas\n",
        "selected_columns_pandas = df[['brand', 'fuel']]\n",
        "selected_columns_pyspark.show()"
      ],
      "metadata": {
        "colab": {
          "base_uri": "https://localhost:8080/"
        },
        "id": "2Su0JFyJhmy6",
        "outputId": "2efa1d3f-58e9-4bc3-df90-267a7242436a"
      },
      "execution_count": 25,
      "outputs": [
        {
          "output_type": "stream",
          "name": "stdout",
          "text": [
            "+--------+------+\n",
            "|   brand|  fuel|\n",
            "+--------+------+\n",
            "|mahindra|diesel|\n",
            "| hyundai|petrol|\n",
            "|    tata|diesel|\n",
            "|   honda|petrol|\n",
            "|    ford|diesel|\n",
            "|   honda|petrol|\n",
            "|    tata|petrol|\n",
            "|    tata|diesel|\n",
            "|mahindra|diesel|\n",
            "|    ford|petrol|\n",
            "|  maruti|petrol|\n",
            "| hyundai|petrol|\n",
            "|    tata|petrol|\n",
            "| hyundai|petrol|\n",
            "|  maruti|petrol|\n",
            "| hyundai|diesel|\n",
            "|  maruti|petrol|\n",
            "|   honda|petrol|\n",
            "|     kia|diesel|\n",
            "| hyundai|petrol|\n",
            "+--------+------+\n",
            "only showing top 20 rows\n",
            "\n"
          ]
        }
      ]
    },
    {
      "cell_type": "code",
      "source": [
        "# Filtrando colunas com PySpark\n",
        "selected_columns_pyspark = df_pyspark.select('brand', 'fuel')\n",
        "selected_columns_pyspark.show()"
      ],
      "metadata": {
        "colab": {
          "base_uri": "https://localhost:8080/"
        },
        "id": "fwiu4492jfME",
        "outputId": "963e1e5b-2efd-4ad8-9992-6ff2afe78c31"
      },
      "execution_count": 26,
      "outputs": [
        {
          "output_type": "stream",
          "name": "stdout",
          "text": [
            "+--------+------+\n",
            "|   brand|  fuel|\n",
            "+--------+------+\n",
            "|mahindra|diesel|\n",
            "| hyundai|petrol|\n",
            "|    tata|diesel|\n",
            "|   honda|petrol|\n",
            "|    ford|diesel|\n",
            "|   honda|petrol|\n",
            "|    tata|petrol|\n",
            "|    tata|diesel|\n",
            "|mahindra|diesel|\n",
            "|    ford|petrol|\n",
            "|  maruti|petrol|\n",
            "| hyundai|petrol|\n",
            "|    tata|petrol|\n",
            "| hyundai|petrol|\n",
            "|  maruti|petrol|\n",
            "| hyundai|diesel|\n",
            "|  maruti|petrol|\n",
            "|   honda|petrol|\n",
            "|     kia|diesel|\n",
            "| hyundai|petrol|\n",
            "+--------+------+\n",
            "only showing top 20 rows\n",
            "\n"
          ]
        }
      ]
    },
    {
      "cell_type": "code",
      "source": [
        "# Filtrando dados com Pandas\n",
        "tata_cars_pandas = df[df['brand'] == 'tata']\n",
        "print(tata_cars_pandas.head())\n",
        "\n",
        "expensive_cars_pandas = df[df['price'] > 10000]\n",
        "print(expensive_cars_pandas.head())\n",
        "\n",
        "# Filtrando linhas com múltiplas condições\n",
        "tata_expensive_cars_pandas = df[(df['brand'] == 'tata') & (df['price'] > 10000)]\n",
        "print(tata_expensive_cars_pandas.head())\n"
      ],
      "metadata": {
        "colab": {
          "base_uri": "https://localhost:8080/"
        },
        "id": "niwKh3ROlf5u",
        "outputId": "bdaa6c3b-e39c-4347-ff1e-1afdd556400a"
      },
      "execution_count": 29,
      "outputs": [
        {
          "output_type": "stream",
          "name": "stdout",
          "text": [
            "   brand    model transmission  age    fuel  engine       km  owner  \\\n",
            "2   tata  harrier       manual  2.0  diesel  1956.0  27990.0    1.0   \n",
            "6   tata    punch       manual  2.0  petrol  1199.0    450.0    1.0   \n",
            "7   tata    nexon    automatic  4.0  diesel     NaN  59866.0    1.0   \n",
            "12  tata    tiago       manual  1.0  petrol  1199.0   6676.0    1.0   \n",
            "21  tata    tigor       manual  1.0  petrol  1199.0  12096.0    1.0   \n",
            "\n",
            "        price location  mileage  power  seats type  \n",
            "2   1489000.0      NaN      NaN    NaN    NaN  NaN  \n",
            "6    813000.0      NaN      NaN    NaN    NaN  NaN  \n",
            "7    728000.0      NaN      NaN    NaN    NaN  NaN  \n",
            "12   536000.0      NaN      NaN    NaN    NaN  NaN  \n",
            "21   590000.0      NaN      NaN    NaN    NaN  NaN  \n",
            "      brand     model transmission  age    fuel  engine       km  owner  \\\n",
            "0  mahindra      thar       manual  4.0  diesel  2184.0  11003.0    1.0   \n",
            "1   hyundai     verna       manual  6.0  petrol  1591.0  66936.0    1.0   \n",
            "2      tata   harrier       manual  2.0  diesel  1956.0  27990.0    1.0   \n",
            "3     honda      city    automatic  1.0  petrol  1498.0   5061.0    1.0   \n",
            "4      ford  ecosport       manual  3.0  diesel  1498.0  23480.0    1.0   \n",
            "\n",
            "       price location  mileage  power  seats type  \n",
            "0  1231000.0      NaN      NaN    NaN    NaN  NaN  \n",
            "1   786000.0      NaN      NaN    NaN    NaN  NaN  \n",
            "2  1489000.0      NaN      NaN    NaN    NaN  NaN  \n",
            "3  1227000.0      NaN      NaN    NaN    NaN  NaN  \n",
            "4   887000.0      NaN      NaN    NaN    NaN  NaN  \n",
            "   brand    model transmission  age    fuel  engine       km  owner  \\\n",
            "2   tata  harrier       manual  2.0  diesel  1956.0  27990.0    1.0   \n",
            "6   tata    punch       manual  2.0  petrol  1199.0    450.0    1.0   \n",
            "7   tata    nexon    automatic  4.0  diesel     NaN  59866.0    1.0   \n",
            "12  tata    tiago       manual  1.0  petrol  1199.0   6676.0    1.0   \n",
            "21  tata    tigor       manual  1.0  petrol  1199.0  12096.0    1.0   \n",
            "\n",
            "        price location  mileage  power  seats type  \n",
            "2   1489000.0      NaN      NaN    NaN    NaN  NaN  \n",
            "6    813000.0      NaN      NaN    NaN    NaN  NaN  \n",
            "7    728000.0      NaN      NaN    NaN    NaN  NaN  \n",
            "12   536000.0      NaN      NaN    NaN    NaN  NaN  \n",
            "21   590000.0      NaN      NaN    NaN    NaN  NaN  \n"
          ]
        }
      ]
    },
    {
      "cell_type": "code",
      "source": [
        "# Filtrando dados com PySpark\n",
        "tata_cars_pyspark = df_pyspark.filter(df_pyspark['brand'] == 'honda')\n",
        "tata_cars_pyspark.show()\n",
        "\n",
        "expensive_cars_pyspark = df_pyspark.filter(df_pyspark['price'] > 10000)\n",
        "expensive_cars_pyspark.show()\n",
        "\n",
        "# Filtrando linhas com múltiplas condições\n",
        "tata_expensive_cars_pyspark = df_pyspark.filter((df_pyspark['brand'] == 'honda') & (df_pyspark['price'] > 10000))\n",
        "tata_expensive_cars_pyspark.show()"
      ],
      "metadata": {
        "colab": {
          "base_uri": "https://localhost:8080/"
        },
        "id": "lPWlcARRmHTE",
        "outputId": "a7b911e7-1ff1-4444-968b-9dc17c7fb91f"
      },
      "execution_count": 30,
      "outputs": [
        {
          "output_type": "stream",
          "name": "stdout",
          "text": [
            "+-----+-----+------------+---+------+------+--------+-----+---------+--------+-------+-----+-----+----+\n",
            "|brand|model|transmission|age|  fuel|engine|      km|owner|    price|location|mileage|power|seats|type|\n",
            "+-----+-----+------------+---+------+------+--------+-----+---------+--------+-------+-----+-----+----+\n",
            "|honda| city|   automatic|1.0|petrol|1498.0|  5061.0|  1.0|1227000.0|    NULL|   NULL| NULL| NULL|NULL|\n",
            "|honda| wr-v|      manual|3.0|petrol|1199.0| 44787.0|  1.0| 796000.0|    NULL|   NULL| NULL| NULL|NULL|\n",
            "|honda|amaze|      manual|2.0|petrol|1199.0| 15935.0|  1.0| 699000.0|    NULL|   NULL| NULL| NULL|NULL|\n",
            "|honda| city|   automatic|7.0|petrol|1497.0| 65434.0|  2.0| 787000.0|    NULL|   NULL| NULL| NULL|NULL|\n",
            "|honda| city|   automatic|7.0|petrol|1497.0| 74671.0|  1.0| 832000.0|    NULL|   NULL| NULL| NULL|NULL|\n",
            "|honda| city|   automatic|8.0|petrol|1497.0| 61033.0|  2.0| 572000.0|    NULL|   NULL| NULL| NULL|NULL|\n",
            "|honda|amaze|      manual|4.0|petrol|1199.0| 48004.0|  2.0| 493000.0|    NULL|   NULL| NULL| NULL|NULL|\n",
            "|honda| city|      manual|3.0|petrol|1498.0| 28398.0|  1.0|1078000.0|    NULL|   NULL| NULL| NULL|NULL|\n",
            "|honda|amaze|      manual|4.0|petrol|1199.0| 52036.0|  1.0| 573000.0|    NULL|   NULL| NULL| NULL|NULL|\n",
            "|honda| city|      manual|3.0|petrol|1498.0|  5404.0|  1.0|1251000.0|    NULL|   NULL| NULL| NULL|NULL|\n",
            "|honda| city|      manual|7.0|petrol|1497.0| 78608.0|  1.0| 578000.0|    NULL|   NULL| NULL| NULL|NULL|\n",
            "|honda| jazz|      manual|8.0|petrol|1199.0| 79166.0|  1.0| 382000.0|    NULL|   NULL| NULL| NULL|NULL|\n",
            "|honda| city|      manual|8.0|petrol|1497.0| 72308.0|  1.0| 523000.0|    NULL|   NULL| NULL| NULL|NULL|\n",
            "|honda|amaze|      manual|6.0|petrol|1199.0| 27051.0|  1.0| 515000.0|    NULL|   NULL| NULL| NULL|NULL|\n",
            "|honda|amaze|      manual|9.0|petrol|1198.0| 91116.0|  2.0| 320000.0|    NULL|   NULL| NULL| NULL|NULL|\n",
            "|honda|amaze|   automatic|1.0|petrol|1199.0|  8376.0|  1.0| 816000.0|    NULL|   NULL| NULL| NULL|NULL|\n",
            "|honda| city|      manual|7.0|petrol|1497.0|102835.0|  1.0| 608000.0|    NULL|   NULL| NULL| NULL|NULL|\n",
            "|honda|amaze|      manual|5.0|petrol|1199.0| 37864.0|  1.0| 543000.0|    NULL|   NULL| NULL| NULL|NULL|\n",
            "|honda| city|   automatic|7.0|petrol|1497.0| 42012.0|  1.0| 814000.0|    NULL|   NULL| NULL| NULL|NULL|\n",
            "|honda| city|      manual|7.0|petrol|1497.0|115810.0|  1.0| 583000.0|    NULL|   NULL| NULL| NULL|NULL|\n",
            "+-----+-----+------------+---+------+------+--------+-----+---------+--------+-------+-----+-----+----+\n",
            "only showing top 20 rows\n",
            "\n",
            "+--------+--------+------------+----+------+------+-------+-----+---------+--------+-------+-----+-----+----+\n",
            "|   brand|   model|transmission| age|  fuel|engine|     km|owner|    price|location|mileage|power|seats|type|\n",
            "+--------+--------+------------+----+------+------+-------+-----+---------+--------+-------+-----+-----+----+\n",
            "|mahindra|    thar|      manual| 4.0|diesel|2184.0|11003.0|  1.0|1231000.0|    NULL|   NULL| NULL| NULL|NULL|\n",
            "| hyundai|   verna|      manual| 6.0|petrol|1591.0|66936.0|  1.0| 786000.0|    NULL|   NULL| NULL| NULL|NULL|\n",
            "|    tata| harrier|      manual| 2.0|diesel|1956.0|27990.0|  1.0|1489000.0|    NULL|   NULL| NULL| NULL|NULL|\n",
            "|   honda|    city|   automatic| 1.0|petrol|1498.0| 5061.0|  1.0|1227000.0|    NULL|   NULL| NULL| NULL|NULL|\n",
            "|    ford|ecosport|      manual| 3.0|diesel|1498.0|23480.0|  1.0| 887000.0|    NULL|   NULL| NULL| NULL|NULL|\n",
            "|   honda|    wr-v|      manual| 3.0|petrol|1199.0|44787.0|  1.0| 796000.0|    NULL|   NULL| NULL| NULL|NULL|\n",
            "|    tata|   punch|      manual| 2.0|petrol|1199.0|  450.0|  1.0| 813000.0|    NULL|   NULL| NULL| NULL|NULL|\n",
            "|    tata|   nexon|   automatic| 4.0|diesel|  NULL|59866.0|  1.0| 728000.0|    NULL|   NULL| NULL| NULL|NULL|\n",
            "|mahindra|  xuv700|   automatic| 2.0|diesel|2184.0|62567.0|  1.0|2322000.0|    NULL|   NULL| NULL| NULL|NULL|\n",
            "|    ford|ecosport|   automatic| 5.0|petrol|1497.0|58503.0|  1.0| 766000.0|    NULL|   NULL| NULL| NULL|NULL|\n",
            "|  maruti|   dzire|      manual| 6.0|petrol|1197.0|58159.0|  1.0| 471000.0|    NULL|   NULL| NULL| NULL|NULL|\n",
            "| hyundai|   grand|      manual| 1.0|petrol|1197.0|15568.0|  1.0| 689000.0|    NULL|   NULL| NULL| NULL|NULL|\n",
            "|    tata|   tiago|      manual| 1.0|petrol|1199.0| 6676.0|  1.0| 536000.0|    NULL|   NULL| NULL| NULL|NULL|\n",
            "| hyundai|   creta|      manual| 6.0|petrol|  NULL|59085.0|  1.0| 823000.0|    NULL|   NULL| NULL| NULL|NULL|\n",
            "|  maruti|    alto|      manual| 6.0|petrol| 998.0|52966.0|  1.0| 310000.0|    NULL|   NULL| NULL| NULL|NULL|\n",
            "| hyundai|   verna|      manual| 4.0|diesel|1582.0|60592.0|  1.0| 993000.0|    NULL|   NULL| NULL| NULL|NULL|\n",
            "|  maruti|    alto|   automatic|10.0|petrol| 998.0|71297.0|  1.0| 265000.0|    NULL|   NULL| NULL| NULL|NULL|\n",
            "|   honda|   amaze|      manual| 2.0|petrol|1199.0|15935.0|  1.0| 699000.0|    NULL|   NULL| NULL| NULL|NULL|\n",
            "|     kia|  seltos|      manual| 3.0|diesel|1493.0|71040.0|  1.0| 980000.0|    NULL|   NULL| NULL| NULL|NULL|\n",
            "| hyundai|   grand|      manual| 1.0|petrol|1197.0| 2850.0|  1.0| 710000.0|    NULL|   NULL| NULL| NULL|NULL|\n",
            "+--------+--------+------------+----+------+------+-------+-----+---------+--------+-------+-----+-----+----+\n",
            "only showing top 20 rows\n",
            "\n",
            "+-----+-----+------------+---+------+------+--------+-----+---------+--------+-------+-----+-----+----+\n",
            "|brand|model|transmission|age|  fuel|engine|      km|owner|    price|location|mileage|power|seats|type|\n",
            "+-----+-----+------------+---+------+------+--------+-----+---------+--------+-------+-----+-----+----+\n",
            "|honda| city|   automatic|1.0|petrol|1498.0|  5061.0|  1.0|1227000.0|    NULL|   NULL| NULL| NULL|NULL|\n",
            "|honda| wr-v|      manual|3.0|petrol|1199.0| 44787.0|  1.0| 796000.0|    NULL|   NULL| NULL| NULL|NULL|\n",
            "|honda|amaze|      manual|2.0|petrol|1199.0| 15935.0|  1.0| 699000.0|    NULL|   NULL| NULL| NULL|NULL|\n",
            "|honda| city|   automatic|7.0|petrol|1497.0| 65434.0|  2.0| 787000.0|    NULL|   NULL| NULL| NULL|NULL|\n",
            "|honda| city|   automatic|7.0|petrol|1497.0| 74671.0|  1.0| 832000.0|    NULL|   NULL| NULL| NULL|NULL|\n",
            "|honda| city|   automatic|8.0|petrol|1497.0| 61033.0|  2.0| 572000.0|    NULL|   NULL| NULL| NULL|NULL|\n",
            "|honda|amaze|      manual|4.0|petrol|1199.0| 48004.0|  2.0| 493000.0|    NULL|   NULL| NULL| NULL|NULL|\n",
            "|honda| city|      manual|3.0|petrol|1498.0| 28398.0|  1.0|1078000.0|    NULL|   NULL| NULL| NULL|NULL|\n",
            "|honda|amaze|      manual|4.0|petrol|1199.0| 52036.0|  1.0| 573000.0|    NULL|   NULL| NULL| NULL|NULL|\n",
            "|honda| city|      manual|3.0|petrol|1498.0|  5404.0|  1.0|1251000.0|    NULL|   NULL| NULL| NULL|NULL|\n",
            "|honda| city|      manual|7.0|petrol|1497.0| 78608.0|  1.0| 578000.0|    NULL|   NULL| NULL| NULL|NULL|\n",
            "|honda| jazz|      manual|8.0|petrol|1199.0| 79166.0|  1.0| 382000.0|    NULL|   NULL| NULL| NULL|NULL|\n",
            "|honda| city|      manual|8.0|petrol|1497.0| 72308.0|  1.0| 523000.0|    NULL|   NULL| NULL| NULL|NULL|\n",
            "|honda|amaze|      manual|6.0|petrol|1199.0| 27051.0|  1.0| 515000.0|    NULL|   NULL| NULL| NULL|NULL|\n",
            "|honda|amaze|      manual|9.0|petrol|1198.0| 91116.0|  2.0| 320000.0|    NULL|   NULL| NULL| NULL|NULL|\n",
            "|honda|amaze|   automatic|1.0|petrol|1199.0|  8376.0|  1.0| 816000.0|    NULL|   NULL| NULL| NULL|NULL|\n",
            "|honda| city|      manual|7.0|petrol|1497.0|102835.0|  1.0| 608000.0|    NULL|   NULL| NULL| NULL|NULL|\n",
            "|honda|amaze|      manual|5.0|petrol|1199.0| 37864.0|  1.0| 543000.0|    NULL|   NULL| NULL| NULL|NULL|\n",
            "|honda| city|   automatic|7.0|petrol|1497.0| 42012.0|  1.0| 814000.0|    NULL|   NULL| NULL| NULL|NULL|\n",
            "|honda| city|      manual|7.0|petrol|1497.0|115810.0|  1.0| 583000.0|    NULL|   NULL| NULL| NULL|NULL|\n",
            "+-----+-----+------------+---+------+------+--------+-----+---------+--------+-------+-----+-----+----+\n",
            "only showing top 20 rows\n",
            "\n"
          ]
        }
      ]
    },
    {
      "cell_type": "code",
      "source": [
        "# Agregação com Pandas\n",
        "# Por marca e calcular a média do preço\n",
        "mean_price_by_brand_pandas = df.groupby('brand')['price'].mean()\n",
        "print(mean_price_by_brand_pandas)\n",
        "\n",
        "# Por marca e contar o número de carros\n",
        "count_cars_by_brand_pandas = df.groupby('brand')['brand'].count()\n",
        "print(count_cars_by_brand_pandas)"
      ],
      "metadata": {
        "colab": {
          "base_uri": "https://localhost:8080/"
        },
        "id": "4KBBYd_Vmse6",
        "outputId": "e404e33b-cfaa-42b8-cbfb-a225773d1353"
      },
      "execution_count": 33,
      "outputs": [
        {
          "output_type": "stream",
          "name": "stdout",
          "text": [
            "brand\n",
            "ambassador       1.350000e+05\n",
            "audi             2.278768e+06\n",
            "bentley          5.550000e+06\n",
            "bmw              2.520764e+06\n",
            "chevrolet        3.044463e+05\n",
            "datsun           3.232446e+05\n",
            "fiat             3.269286e+05\n",
            "force            8.750000e+05\n",
            "ford             6.626805e+05\n",
            "honda            6.034868e+05\n",
            "hyundai          5.712369e+05\n",
            "isuzu            1.464923e+06\n",
            "jaguar           2.879663e+06\n",
            "jeep             1.688935e+06\n",
            "kia              1.333359e+06\n",
            "land             3.618103e+06\n",
            "land rover       3.633041e+06\n",
            "lexus            4.829444e+06\n",
            "mahindra         8.335125e+05\n",
            "maruti           4.942791e+05\n",
            "maserati         6.100000e+06\n",
            "mercedes-amg     5.100000e+06\n",
            "mercedes-benz    2.445811e+06\n",
            "mg               1.587085e+06\n",
            "mini             2.489233e+06\n",
            "mitsubishi       1.105889e+06\n",
            "nissan           5.568022e+05\n",
            "porsche          4.457939e+06\n",
            "renault          4.980811e+05\n",
            "skoda            7.823020e+05\n",
            "smart            3.000000e+05\n",
            "tata             6.824418e+05\n",
            "toyota           1.210682e+06\n",
            "volkswagen       5.506835e+05\n",
            "volvo            2.509872e+06\n",
            "Name: price, dtype: float64\n",
            "brand\n",
            "ambassador           1\n",
            "audi               427\n",
            "bentley              2\n",
            "bmw                694\n",
            "chevrolet          121\n",
            "datsun             327\n",
            "fiat                28\n",
            "force                4\n",
            "ford              1329\n",
            "honda             3198\n",
            "hyundai           6757\n",
            "isuzu               13\n",
            "jaguar              95\n",
            "jeep                77\n",
            "kia                213\n",
            "land                58\n",
            "land rover          49\n",
            "lexus                9\n",
            "mahindra          1550\n",
            "maruti           10561\n",
            "maserati             2\n",
            "mercedes-amg         1\n",
            "mercedes-benz      641\n",
            "mg                  59\n",
            "mini                43\n",
            "mitsubishi          27\n",
            "nissan             204\n",
            "porsche             33\n",
            "renault           1233\n",
            "skoda              614\n",
            "smart                1\n",
            "tata              1206\n",
            "toyota            1413\n",
            "volkswagen        1170\n",
            "volvo               39\n",
            "Name: brand, dtype: int64\n"
          ]
        }
      ]
    },
    {
      "cell_type": "code",
      "source": [
        "# Agregação com PySpark\n",
        "# Por marca e calcular a média do preço\n",
        "mean_price_by_brand_pyspark = df_pyspark.groupBy('brand').agg({'price': 'avg'})\n",
        "mean_price_by_brand_pyspark.show()\n",
        "\n",
        "# Por marca e contar o número de carros\n",
        "count_cars_by_brand_pyspark = df_pyspark.groupBy('brand').count()\n",
        "count_cars_by_brand_pyspark.show()"
      ],
      "metadata": {
        "colab": {
          "base_uri": "https://localhost:8080/"
        },
        "id": "2VtFqzmlm1CM",
        "outputId": "6f7184fd-cb61-4bae-8dee-8fe26266a5c7"
      },
      "execution_count": 32,
      "outputs": [
        {
          "output_type": "stream",
          "name": "stdout",
          "text": [
            "+----------+------------------+\n",
            "|     brand|        avg(price)|\n",
            "+----------+------------------+\n",
            "|    jaguar|2879663.1578947366|\n",
            "|land rover|3633040.8163265307|\n",
            "|  mahindra| 833512.5161290322|\n",
            "|      tata| 682441.7910447761|\n",
            "|mitsubishi| 1105888.888888889|\n",
            "|     lexus| 4829444.444444444|\n",
            "|      NULL|          976000.0|\n",
            "|    toyota| 1210682.059447983|\n",
            "|        mg|1587084.7457627119|\n",
            "|      audi| 2278768.149882904|\n",
            "|    datsun| 323244.6483180428|\n",
            "|       bmw| 2520763.688760807|\n",
            "|      jeep|1688935.0649350649|\n",
            "|   bentley|         5550000.0|\n",
            "|     skoda| 782302.0358306189|\n",
            "|   hyundai| 571236.9320704455|\n",
            "|      ford| 662680.5492851768|\n",
            "|    maruti|494279.10235773126|\n",
            "|ambassador|          135000.0|\n",
            "|       kia|1333359.3896713615|\n",
            "+----------+------------------+\n",
            "only showing top 20 rows\n",
            "\n",
            "+----------+-----+\n",
            "|     brand|count|\n",
            "+----------+-----+\n",
            "|    jaguar|   95|\n",
            "|land rover|   49|\n",
            "|  mahindra| 1550|\n",
            "|      tata| 1206|\n",
            "|mitsubishi|   27|\n",
            "|     lexus|    9|\n",
            "|      NULL|    1|\n",
            "|    toyota| 1413|\n",
            "|        mg|   59|\n",
            "|      audi|  427|\n",
            "|    datsun|  327|\n",
            "|       bmw|  694|\n",
            "|      jeep|   77|\n",
            "|   bentley|    2|\n",
            "|     skoda|  614|\n",
            "|   hyundai| 6757|\n",
            "|      ford| 1329|\n",
            "|    maruti|10561|\n",
            "|ambassador|    1|\n",
            "|       kia|  213|\n",
            "+----------+-----+\n",
            "only showing top 20 rows\n",
            "\n"
          ]
        }
      ]
    },
    {
      "cell_type": "code",
      "source": [
        "# Junções (Joins) com Pandas\n",
        "df2 = pd.DataFrame({'brand': ['tata', 'honda', 'maruti'], 'origin': ['India', 'Japan', 'India']})\n",
        "\n",
        "# Inner Join\n",
        "merged_df_pandas = pd.merge(df, df2, on='brand', how='inner')\n",
        "print(merged_df_pandas.head())\n",
        "\n",
        "# Left Join\n",
        "merged_df_pandas = pd.merge(df, df2, on='brand', how='left')\n",
        "print(merged_df_pandas.head())\n",
        "\n",
        "# Right Join\n",
        "merged_df_pandas = pd.merge(df, df2, on='brand', how='right')\n",
        "print(merged_df_pandas.head())\n",
        "\n",
        "# Outer Join\n",
        "merged_df_pandas = pd.merge(df, df2, on='brand', how='outer')\n",
        "print(merged_df_pandas.head())"
      ],
      "metadata": {
        "colab": {
          "base_uri": "https://localhost:8080/"
        },
        "id": "nwU6eoFjnHaV",
        "outputId": "51b5fae9-049f-4534-b89a-9dd743fb2a0d"
      },
      "execution_count": 34,
      "outputs": [
        {
          "output_type": "stream",
          "name": "stdout",
          "text": [
            "   brand    model transmission  age    fuel  engine       km  owner  \\\n",
            "0   tata  harrier       manual  2.0  diesel  1956.0  27990.0    1.0   \n",
            "1  honda     city    automatic  1.0  petrol  1498.0   5061.0    1.0   \n",
            "2  honda     wr-v       manual  3.0  petrol  1199.0  44787.0    1.0   \n",
            "3   tata    punch       manual  2.0  petrol  1199.0    450.0    1.0   \n",
            "4   tata    nexon    automatic  4.0  diesel     NaN  59866.0    1.0   \n",
            "\n",
            "       price location  mileage  power  seats type origin  \n",
            "0  1489000.0      NaN      NaN    NaN    NaN  NaN  India  \n",
            "1  1227000.0      NaN      NaN    NaN    NaN  NaN  Japan  \n",
            "2   796000.0      NaN      NaN    NaN    NaN  NaN  Japan  \n",
            "3   813000.0      NaN      NaN    NaN    NaN  NaN  India  \n",
            "4   728000.0      NaN      NaN    NaN    NaN  NaN  India  \n",
            "      brand     model transmission  age    fuel  engine       km  owner  \\\n",
            "0  mahindra      thar       manual  4.0  diesel  2184.0  11003.0    1.0   \n",
            "1   hyundai     verna       manual  6.0  petrol  1591.0  66936.0    1.0   \n",
            "2      tata   harrier       manual  2.0  diesel  1956.0  27990.0    1.0   \n",
            "3     honda      city    automatic  1.0  petrol  1498.0   5061.0    1.0   \n",
            "4      ford  ecosport       manual  3.0  diesel  1498.0  23480.0    1.0   \n",
            "\n",
            "       price location  mileage  power  seats type origin  \n",
            "0  1231000.0      NaN      NaN    NaN    NaN  NaN    NaN  \n",
            "1   786000.0      NaN      NaN    NaN    NaN  NaN    NaN  \n",
            "2  1489000.0      NaN      NaN    NaN    NaN  NaN  India  \n",
            "3  1227000.0      NaN      NaN    NaN    NaN  NaN  Japan  \n",
            "4   887000.0      NaN      NaN    NaN    NaN  NaN    NaN  \n",
            "  brand    model transmission  age    fuel  engine       km  owner      price  \\\n",
            "0  tata  harrier       manual  2.0  diesel  1956.0  27990.0    1.0  1489000.0   \n",
            "1  tata    punch       manual  2.0  petrol  1199.0    450.0    1.0   813000.0   \n",
            "2  tata    nexon    automatic  4.0  diesel     NaN  59866.0    1.0   728000.0   \n",
            "3  tata    tiago       manual  1.0  petrol  1199.0   6676.0    1.0   536000.0   \n",
            "4  tata    tigor       manual  1.0  petrol  1199.0  12096.0    1.0   590000.0   \n",
            "\n",
            "  location  mileage  power  seats type origin  \n",
            "0      NaN      NaN    NaN    NaN  NaN  India  \n",
            "1      NaN      NaN    NaN    NaN  NaN  India  \n",
            "2      NaN      NaN    NaN    NaN  NaN  India  \n",
            "3      NaN      NaN    NaN    NaN  NaN  India  \n",
            "4      NaN      NaN    NaN    NaN  NaN  India  \n",
            "        brand    model transmission   age    fuel  engine       km  owner  \\\n",
            "0  ambassador  classic       manual  21.0  diesel  1489.0  80000.0    3.0   \n",
            "1        audi       a4    automatic  11.0  diesel  1968.0  40670.0    2.0   \n",
            "2        audi       a6    automatic   9.0  petrol  1984.0  55985.0    1.0   \n",
            "3        audi       a6    automatic  14.0  diesel  2698.0  35000.0    1.0   \n",
            "4        audi       a4    automatic   9.0  diesel  1968.0  13648.0    1.0   \n",
            "\n",
            "       price    location  mileage   power  seats type origin  \n",
            "0   135000.0     chennai    12.80   35.50    5.0  NaN    NaN  \n",
            "1  1774000.0  coimbatore    15.20  140.80    5.0  NaN    NaN  \n",
            "2  2350000.0      mumbai    13.53  177.01    5.0  NaN    NaN  \n",
            "3  1150000.0     kolkata    12.40  179.50    5.0  NaN    NaN  \n",
            "4  2143000.0       kochi    17.11  174.33    5.0  NaN    NaN  \n"
          ]
        }
      ]
    },
    {
      "cell_type": "code",
      "source": [
        "# Junções (Joins) com PySpark\n",
        "# Convertendo o DataFrame Pandas para DataFrame PySpark\n",
        "df2_pyspark = spark.createDataFrame(df2)\n",
        "\n",
        "# Inner Join\n",
        "merged_df_pyspark = df_pyspark.join(df2_pyspark, 'brand', 'inner')\n",
        "merged_df_pyspark.show()\n",
        "\n",
        "# Left Join\n",
        "merged_df_pyspark = df_pyspark.join(df2_pyspark, 'brand', 'left')\n",
        "merged_df_pyspark.show()\n",
        "\n",
        "# Right Join\n",
        "merged_df_pyspark = df_pyspark.join(df2_pyspark, 'brand', 'right')\n",
        "merged_df_pyspark.show()\n",
        "\n",
        "# Outer Join\n",
        "merged_df_pyspark = df_pyspark.join(df2_pyspark, 'brand', 'outer')\n",
        "merged_df_pyspark.show()"
      ],
      "metadata": {
        "colab": {
          "base_uri": "https://localhost:8080/"
        },
        "id": "1GcgRT7Goh2j",
        "outputId": "12c1a429-8aad-4366-a463-4df38cf12f46"
      },
      "execution_count": 35,
      "outputs": [
        {
          "output_type": "stream",
          "name": "stdout",
          "text": [
            "+-----+---------+------------+---+------+------+-------+-----+---------+-------------+-------+-----+-----+---------+------+\n",
            "|brand|    model|transmission|age|  fuel|engine|     km|owner|    price|     location|mileage|power|seats|     type|origin|\n",
            "+-----+---------+------------+---+------+------+-------+-----+---------+-------------+-------+-----+-----+---------+------+\n",
            "| tata|    tigor|      manual|2.0|petrol|  NULL|82009.0|  2.0| 392000.0|  maharashtra|   NULL| NULL|  5.0|    sedan| India|\n",
            "| tata|    tiago|      manual|3.0|petrol|  NULL| 5288.0|  1.0| 623000.0|  maharashtra|   NULL| NULL|  5.0|hatchback| India|\n",
            "| tata|  harrier|   automatic|3.0|diesel|  NULL|64784.0|  1.0|1986000.0|  maharashtra|   NULL| NULL|  5.0|      suv| India|\n",
            "| tata|    tiago|   automatic|3.0|petrol|  NULL|15606.0|  2.0| 785000.0|    telangana|   NULL| NULL|  5.0|hatchback| India|\n",
            "| tata|    tigor|   automatic|4.0|petrol|  NULL|16841.0|  1.0|1012000.0|  maharashtra|   NULL| NULL|  5.0|    sedan| India|\n",
            "| tata|tiago nrg|      manual|5.0|petrol|  NULL|84133.0|  1.0| 499000.0|  maharashtra|   NULL| NULL|  5.0|hatchback| India|\n",
            "| tata|    punch|      manual|2.0|petrol|  NULL| 3348.0|  1.0| 810000.0|   tamil nadu|   NULL| NULL|  5.0|      suv| India|\n",
            "| tata|   altroz|      manual|4.0|petrol|  NULL|22143.0|  1.0| 740000.0|      haryana|   NULL| NULL|  5.0|hatchback| India|\n",
            "| tata|    nexon|      manual|6.0|diesel|  NULL|72855.0|  1.0| 773000.0|   tamil nadu|   NULL| NULL|  5.0|      suv| India|\n",
            "| tata|    tigor|      manual|2.0|petrol|  NULL|45237.0|  2.0| 440000.0|    karnataka|   NULL| NULL|  5.0|    sedan| India|\n",
            "| tata|    tiago|   automatic|6.0|petrol|  NULL|40534.0|  2.0| 567000.0|    telangana|   NULL| NULL|  5.0|hatchback| India|\n",
            "| tata|    tigor|      manual|6.0|petrol|  NULL|43401.0|  1.0| 601000.0|    telangana|   NULL| NULL|  5.0|    sedan| India|\n",
            "| tata|    tiago|   automatic|6.0|petrol|  NULL|41363.0|  1.0| 543000.0|    karnataka|   NULL| NULL|  5.0|hatchback| India|\n",
            "| tata|    tiago|      manual|8.0|petrol|  NULL|46138.0|  1.0| 418000.0|    telangana|   NULL| NULL|  5.0|hatchback| India|\n",
            "| tata|    tiago|      manual|3.0|petrol|  NULL|15897.0|  1.0| 627000.0|    telangana|   NULL| NULL|  5.0|hatchback| India|\n",
            "| tata|    tiago|      manual|5.0|petrol|  NULL|37419.0|  1.0| 533000.0|   tamil nadu|   NULL| NULL|  5.0|hatchback| India|\n",
            "| tata|    tiago|      manual|5.0|petrol|  NULL|63190.0|  1.0| 431000.0|uttar pradesh|   NULL| NULL|  5.0|hatchback| India|\n",
            "| tata|    nexon|      manual|3.0|diesel|  NULL|32324.0|  1.0| 951000.0|       punjab|   NULL| NULL|  5.0|      suv| India|\n",
            "| tata|    punch|   automatic|3.0|petrol|  NULL|24354.0|  1.0| 839000.0|   tamil nadu|   NULL| NULL|  5.0|      suv| India|\n",
            "| tata|    tiago|      manual|8.0|petrol|  NULL|86617.0|  1.0| 413000.0|        delhi|   NULL| NULL|  5.0|hatchback| India|\n",
            "+-----+---------+------------+---+------+------+-------+-----+---------+-------------+-------+-----+-----+---------+------+\n",
            "only showing top 20 rows\n",
            "\n",
            "+--------+--------+------------+----+------+------+-------+-----+---------+--------+-------+-----+-----+----+------+\n",
            "|   brand|   model|transmission| age|  fuel|engine|     km|owner|    price|location|mileage|power|seats|type|origin|\n",
            "+--------+--------+------------+----+------+------+-------+-----+---------+--------+-------+-----+-----+----+------+\n",
            "|mahindra|    thar|      manual| 4.0|diesel|2184.0|11003.0|  1.0|1231000.0|    NULL|   NULL| NULL| NULL|NULL|  NULL|\n",
            "|mahindra|  xuv700|   automatic| 2.0|diesel|2184.0|62567.0|  1.0|2322000.0|    NULL|   NULL| NULL| NULL|NULL|  NULL|\n",
            "|    tata| harrier|      manual| 2.0|diesel|1956.0|27990.0|  1.0|1489000.0|    NULL|   NULL| NULL| NULL|NULL| India|\n",
            "|    tata|   punch|      manual| 2.0|petrol|1199.0|  450.0|  1.0| 813000.0|    NULL|   NULL| NULL| NULL|NULL| India|\n",
            "|    tata|   nexon|   automatic| 4.0|diesel|  NULL|59866.0|  1.0| 728000.0|    NULL|   NULL| NULL| NULL|NULL| India|\n",
            "|    tata|   tiago|      manual| 1.0|petrol|1199.0| 6676.0|  1.0| 536000.0|    NULL|   NULL| NULL| NULL|NULL| India|\n",
            "|      mg|  hector|   automatic| 2.0|petrol|1451.0|26999.0|  1.0|1652000.0|    NULL|   NULL| NULL| NULL|NULL|  NULL|\n",
            "| hyundai|   verna|      manual| 6.0|petrol|1591.0|66936.0|  1.0| 786000.0|    NULL|   NULL| NULL| NULL|NULL|  NULL|\n",
            "| hyundai|   grand|      manual| 1.0|petrol|1197.0|15568.0|  1.0| 689000.0|    NULL|   NULL| NULL| NULL|NULL|  NULL|\n",
            "| hyundai|   creta|      manual| 6.0|petrol|  NULL|59085.0|  1.0| 823000.0|    NULL|   NULL| NULL| NULL|NULL|  NULL|\n",
            "| hyundai|   verna|      manual| 4.0|diesel|1582.0|60592.0|  1.0| 993000.0|    NULL|   NULL| NULL| NULL|NULL|  NULL|\n",
            "| hyundai|   grand|      manual| 1.0|petrol|1197.0| 2850.0|  1.0| 710000.0|    NULL|   NULL| NULL| NULL|NULL|  NULL|\n",
            "|    ford|ecosport|      manual| 3.0|diesel|1498.0|23480.0|  1.0| 887000.0|    NULL|   NULL| NULL| NULL|NULL|  NULL|\n",
            "|    ford|ecosport|   automatic| 5.0|petrol|1497.0|58503.0|  1.0| 766000.0|    NULL|   NULL| NULL| NULL|NULL|  NULL|\n",
            "|  maruti|   dzire|      manual| 6.0|petrol|1197.0|58159.0|  1.0| 471000.0|    NULL|   NULL| NULL| NULL|NULL| India|\n",
            "|  maruti|    alto|      manual| 6.0|petrol| 998.0|52966.0|  1.0| 310000.0|    NULL|   NULL| NULL| NULL|NULL| India|\n",
            "|  maruti|    alto|   automatic|10.0|petrol| 998.0|71297.0|  1.0| 265000.0|    NULL|   NULL| NULL| NULL|NULL| India|\n",
            "|     kia|  seltos|      manual| 3.0|diesel|1493.0|71040.0|  1.0| 980000.0|    NULL|   NULL| NULL| NULL|NULL|  NULL|\n",
            "|   honda|    city|   automatic| 1.0|petrol|1498.0| 5061.0|  1.0|1227000.0|    NULL|   NULL| NULL| NULL|NULL| Japan|\n",
            "|   honda|    wr-v|      manual| 3.0|petrol|1199.0|44787.0|  1.0| 796000.0|    NULL|   NULL| NULL| NULL|NULL| Japan|\n",
            "+--------+--------+------------+----+------+------+-------+-----+---------+--------+-------+-----+-----+----+------+\n",
            "only showing top 20 rows\n",
            "\n",
            "+-----+---------+------------+---+------+------+-------+-----+---------+-------------+-------+-----+-----+---------+------+\n",
            "|brand|    model|transmission|age|  fuel|engine|     km|owner|    price|     location|mileage|power|seats|     type|origin|\n",
            "+-----+---------+------------+---+------+------+-------+-----+---------+-------------+-------+-----+-----+---------+------+\n",
            "| tata|    tigor|      manual|2.0|petrol|  NULL|82009.0|  2.0| 392000.0|  maharashtra|   NULL| NULL|  5.0|    sedan| India|\n",
            "| tata|    tiago|      manual|3.0|petrol|  NULL| 5288.0|  1.0| 623000.0|  maharashtra|   NULL| NULL|  5.0|hatchback| India|\n",
            "| tata|  harrier|   automatic|3.0|diesel|  NULL|64784.0|  1.0|1986000.0|  maharashtra|   NULL| NULL|  5.0|      suv| India|\n",
            "| tata|    tiago|   automatic|3.0|petrol|  NULL|15606.0|  2.0| 785000.0|    telangana|   NULL| NULL|  5.0|hatchback| India|\n",
            "| tata|    tigor|   automatic|4.0|petrol|  NULL|16841.0|  1.0|1012000.0|  maharashtra|   NULL| NULL|  5.0|    sedan| India|\n",
            "| tata|tiago nrg|      manual|5.0|petrol|  NULL|84133.0|  1.0| 499000.0|  maharashtra|   NULL| NULL|  5.0|hatchback| India|\n",
            "| tata|    punch|      manual|2.0|petrol|  NULL| 3348.0|  1.0| 810000.0|   tamil nadu|   NULL| NULL|  5.0|      suv| India|\n",
            "| tata|   altroz|      manual|4.0|petrol|  NULL|22143.0|  1.0| 740000.0|      haryana|   NULL| NULL|  5.0|hatchback| India|\n",
            "| tata|    nexon|      manual|6.0|diesel|  NULL|72855.0|  1.0| 773000.0|   tamil nadu|   NULL| NULL|  5.0|      suv| India|\n",
            "| tata|    tigor|      manual|2.0|petrol|  NULL|45237.0|  2.0| 440000.0|    karnataka|   NULL| NULL|  5.0|    sedan| India|\n",
            "| tata|    tiago|   automatic|6.0|petrol|  NULL|40534.0|  2.0| 567000.0|    telangana|   NULL| NULL|  5.0|hatchback| India|\n",
            "| tata|    tigor|      manual|6.0|petrol|  NULL|43401.0|  1.0| 601000.0|    telangana|   NULL| NULL|  5.0|    sedan| India|\n",
            "| tata|    tiago|   automatic|6.0|petrol|  NULL|41363.0|  1.0| 543000.0|    karnataka|   NULL| NULL|  5.0|hatchback| India|\n",
            "| tata|    tiago|      manual|8.0|petrol|  NULL|46138.0|  1.0| 418000.0|    telangana|   NULL| NULL|  5.0|hatchback| India|\n",
            "| tata|    tiago|      manual|3.0|petrol|  NULL|15897.0|  1.0| 627000.0|    telangana|   NULL| NULL|  5.0|hatchback| India|\n",
            "| tata|    tiago|      manual|5.0|petrol|  NULL|37419.0|  1.0| 533000.0|   tamil nadu|   NULL| NULL|  5.0|hatchback| India|\n",
            "| tata|    tiago|      manual|5.0|petrol|  NULL|63190.0|  1.0| 431000.0|uttar pradesh|   NULL| NULL|  5.0|hatchback| India|\n",
            "| tata|    nexon|      manual|3.0|diesel|  NULL|32324.0|  1.0| 951000.0|       punjab|   NULL| NULL|  5.0|      suv| India|\n",
            "| tata|    punch|   automatic|3.0|petrol|  NULL|24354.0|  1.0| 839000.0|   tamil nadu|   NULL| NULL|  5.0|      suv| India|\n",
            "| tata|    tiago|      manual|8.0|petrol|  NULL|86617.0|  1.0| 413000.0|        delhi|   NULL| NULL|  5.0|hatchback| India|\n",
            "+-----+---------+------------+---+------+------+-------+-----+---------+-------------+-------+-----+-----+---------+------+\n",
            "only showing top 20 rows\n",
            "\n",
            "+----------+-------+------------+----+------+------+-------+-----+------------------+----------+-------+------+-----+-----+------+\n",
            "|     brand|  model|transmission| age|  fuel|engine|     km|owner|             price|  location|mileage| power|seats| type|origin|\n",
            "+----------+-------+------------+----+------+------+-------+-----+------------------+----------+-------+------+-----+-----+------+\n",
            "|      NULL|   NULL|   automatic|NULL|petrol|  NULL|13794.0|  1.0|          976000.0|     delhi|   NULL|  NULL|  5.0|sedan|  NULL|\n",
            "|ambassador|classic|      manual|21.0|diesel|1489.0|80000.0|  3.0|          135000.0|   chennai|   12.8|  35.5|  5.0| NULL|  NULL|\n",
            "|      audi|     a4|   automatic|11.0|diesel|1968.0|40670.0|  2.0|1773999.9999999998|coimbatore|   15.2| 140.8|  5.0| NULL|  NULL|\n",
            "|      audi|     a6|   automatic| 9.0|petrol|1984.0|55985.0|  1.0|         2350000.0|    mumbai|  13.53|177.01|  5.0| NULL|  NULL|\n",
            "|      audi|     a6|   automatic|14.0|diesel|2698.0|35000.0|  1.0|         1150000.0|   kolkata|   12.4| 179.5|  5.0| NULL|  NULL|\n",
            "|      audi|     a4|   automatic| 9.0|diesel|1968.0|13648.0|  1.0|         2143000.0|     kochi|  17.11|174.33|  5.0| NULL|  NULL|\n",
            "|      audi|     a4|   automatic|12.0|diesel|1968.0|65664.0|  1.0|         1350000.0|    jaipur|  16.55| 140.0|  5.0| NULL|  NULL|\n",
            "|      audi|     a6|   automatic|10.0|diesel|1968.0|56000.0|  2.0|         2950000.0|     delhi|  18.53|187.74|  5.0| NULL|  NULL|\n",
            "|      audi|     a6|   automatic| 6.0|diesel|1968.0|48367.0|  1.0|         3958000.0|coimbatore|  17.68|174.33|  5.0| NULL|  NULL|\n",
            "|      audi|     a4|   automatic|14.0|diesel|2967.0|30000.0|  1.0| 980000.0000000001|   kolkata|  14.94| 241.4|  5.0| NULL|  NULL|\n",
            "|      audi|    rs5|   automatic|11.0|petrol|2894.0|23000.0|  1.0|         3700000.0|    mumbai|  11.05| 444.0|  4.0| NULL|  NULL|\n",
            "|      audi|     a4|   automatic| 9.0|diesel|1968.0|48214.0|  1.0|         2332000.0|coimbatore|  17.11|174.33|  5.0| NULL|  NULL|\n",
            "|      audi|     a6|   automatic|12.0|diesel|1968.0|62500.0|  2.0|         1900000.0|    mumbai|  17.68|174.33|  5.0| NULL|  NULL|\n",
            "|      audi|     a6|   automatic|10.0|diesel|1968.0|40000.0|  1.0|         2295000.0|    mumbai|  17.68|174.33|  5.0| NULL|  NULL|\n",
            "|      audi|     q3|   automatic| 9.0|diesel|1968.0|64103.0|  1.0|1989999.9999999998|     delhi|  15.73|174.33|  5.0| NULL|  NULL|\n",
            "|      audi|     a8|   automatic|12.0|diesel|2967.0|56000.0|  1.0|         4500000.0|     delhi|   11.8| 246.7|  5.0| NULL|  NULL|\n",
            "|      audi|     q7|   automatic| 6.0|diesel|2967.0|11287.0|  1.0|         7036000.0|     kochi|  12.07| 241.4|  7.0| NULL|  NULL|\n",
            "|      audi|     a6|   automatic| 9.0|diesel|1968.0|31652.0|  1.0|         2678000.0|     kochi|  17.68|174.33|  5.0| NULL|  NULL|\n",
            "|      audi|     a6|   automatic|10.0|diesel|1968.0|61726.0|  1.0|         2077000.0|     kochi|  17.68|174.33|  5.0| NULL|  NULL|\n",
            "|      audi|     a6|   automatic|10.0|diesel|1968.0|51495.0|  1.0|         2195000.0|     kochi|  17.68|174.33|  5.0| NULL|  NULL|\n",
            "+----------+-------+------------+----+------+------+-------+-----+------------------+----------+-------+------+-----+-----+------+\n",
            "only showing top 20 rows\n",
            "\n"
          ]
        }
      ]
    },
    {
      "cell_type": "code",
      "source": [
        "# Novas colunas com Pandas\n",
        "df['nova_coluna_pandas'] = df['price'] * 2\n",
        "print(df.head())\n",
        "\n",
        "df['combinando_coluna_pandas'] = df['brand'] + '-' + df['fuel']\n",
        "print(df.head())"
      ],
      "metadata": {
        "colab": {
          "base_uri": "https://localhost:8080/"
        },
        "id": "guvnCDdso16g",
        "outputId": "06404baa-8a3c-435c-8e7e-93490c3b0f4b"
      },
      "execution_count": 40,
      "outputs": [
        {
          "output_type": "stream",
          "name": "stdout",
          "text": [
            "      brand     model transmission  age    fuel  engine       km  owner  \\\n",
            "0  mahindra      thar       manual  4.0  diesel  2184.0  11003.0    1.0   \n",
            "1   hyundai     verna       manual  6.0  petrol  1591.0  66936.0    1.0   \n",
            "2      tata   harrier       manual  2.0  diesel  1956.0  27990.0    1.0   \n",
            "3     honda      city    automatic  1.0  petrol  1498.0   5061.0    1.0   \n",
            "4      ford  ecosport       manual  3.0  diesel  1498.0  23480.0    1.0   \n",
            "\n",
            "       price location  mileage  power  seats type  new_column_pandas  \\\n",
            "0  1231000.0      NaN      NaN    NaN    NaN  NaN          2462000.0   \n",
            "1   786000.0      NaN      NaN    NaN    NaN  NaN          1572000.0   \n",
            "2  1489000.0      NaN      NaN    NaN    NaN  NaN          2978000.0   \n",
            "3  1227000.0      NaN      NaN    NaN    NaN  NaN          2454000.0   \n",
            "4   887000.0      NaN      NaN    NaN    NaN  NaN          1774000.0   \n",
            "\n",
            "  combined_column_pandas  nova_coluna_pandas combinando_coluna_pandas  \n",
            "0        mahindra-diesel           2462000.0          mahindra-diesel  \n",
            "1         hyundai-petrol           1572000.0           hyundai-petrol  \n",
            "2            tata-diesel           2978000.0              tata-diesel  \n",
            "3           honda-petrol           2454000.0             honda-petrol  \n",
            "4            ford-diesel           1774000.0              ford-diesel  \n",
            "      brand     model transmission  age    fuel  engine       km  owner  \\\n",
            "0  mahindra      thar       manual  4.0  diesel  2184.0  11003.0    1.0   \n",
            "1   hyundai     verna       manual  6.0  petrol  1591.0  66936.0    1.0   \n",
            "2      tata   harrier       manual  2.0  diesel  1956.0  27990.0    1.0   \n",
            "3     honda      city    automatic  1.0  petrol  1498.0   5061.0    1.0   \n",
            "4      ford  ecosport       manual  3.0  diesel  1498.0  23480.0    1.0   \n",
            "\n",
            "       price location  mileage  power  seats type  new_column_pandas  \\\n",
            "0  1231000.0      NaN      NaN    NaN    NaN  NaN          2462000.0   \n",
            "1   786000.0      NaN      NaN    NaN    NaN  NaN          1572000.0   \n",
            "2  1489000.0      NaN      NaN    NaN    NaN  NaN          2978000.0   \n",
            "3  1227000.0      NaN      NaN    NaN    NaN  NaN          2454000.0   \n",
            "4   887000.0      NaN      NaN    NaN    NaN  NaN          1774000.0   \n",
            "\n",
            "  combined_column_pandas  nova_coluna_pandas combinando_coluna_pandas  \n",
            "0        mahindra-diesel           2462000.0          mahindra-diesel  \n",
            "1         hyundai-petrol           1572000.0           hyundai-petrol  \n",
            "2            tata-diesel           2978000.0              tata-diesel  \n",
            "3           honda-petrol           2454000.0             honda-petrol  \n",
            "4            ford-diesel           1774000.0              ford-diesel  \n"
          ]
        }
      ]
    },
    {
      "cell_type": "code",
      "source": [
        "# Novas colunas com PySpark\n",
        "df_pyspark = df_pyspark.withColumn('nova_coluna_pyspark', df_pyspark['price'] * 2)\n",
        "df_pyspark.show()\n",
        "\n",
        "df_pyspark = df_pyspark.withColumn('combinando_coluna_pyspark', df_pyspark['brand'] + '-' + df_pyspark['fuel'])\n",
        "df_pyspark.show()"
      ],
      "metadata": {
        "colab": {
          "base_uri": "https://localhost:8080/"
        },
        "id": "tbWLtv-jo682",
        "outputId": "63e37912-9ea9-4711-da0a-2feee84f2f12"
      },
      "execution_count": 41,
      "outputs": [
        {
          "output_type": "stream",
          "name": "stdout",
          "text": [
            "+--------+--------+------------+----+------+------+-------+-----+---------+--------+-------+-----+-----+----+------------------+-----------------------+-------------------+\n",
            "|   brand|   model|transmission| age|  fuel|engine|     km|owner|    price|location|mileage|power|seats|type|new_column_pyspark|combined_column_pyspark|nova_coluna_pyspark|\n",
            "+--------+--------+------------+----+------+------+-------+-----+---------+--------+-------+-----+-----+----+------------------+-----------------------+-------------------+\n",
            "|mahindra|    thar|      manual| 4.0|diesel|2184.0|11003.0|  1.0|1231000.0|    NULL|   NULL| NULL| NULL|NULL|         2462000.0|                   NULL|          2462000.0|\n",
            "| hyundai|   verna|      manual| 6.0|petrol|1591.0|66936.0|  1.0| 786000.0|    NULL|   NULL| NULL| NULL|NULL|         1572000.0|                   NULL|          1572000.0|\n",
            "|    tata| harrier|      manual| 2.0|diesel|1956.0|27990.0|  1.0|1489000.0|    NULL|   NULL| NULL| NULL|NULL|         2978000.0|                   NULL|          2978000.0|\n",
            "|   honda|    city|   automatic| 1.0|petrol|1498.0| 5061.0|  1.0|1227000.0|    NULL|   NULL| NULL| NULL|NULL|         2454000.0|                   NULL|          2454000.0|\n",
            "|    ford|ecosport|      manual| 3.0|diesel|1498.0|23480.0|  1.0| 887000.0|    NULL|   NULL| NULL| NULL|NULL|         1774000.0|                   NULL|          1774000.0|\n",
            "|   honda|    wr-v|      manual| 3.0|petrol|1199.0|44787.0|  1.0| 796000.0|    NULL|   NULL| NULL| NULL|NULL|         1592000.0|                   NULL|          1592000.0|\n",
            "|    tata|   punch|      manual| 2.0|petrol|1199.0|  450.0|  1.0| 813000.0|    NULL|   NULL| NULL| NULL|NULL|         1626000.0|                   NULL|          1626000.0|\n",
            "|    tata|   nexon|   automatic| 4.0|diesel|  NULL|59866.0|  1.0| 728000.0|    NULL|   NULL| NULL| NULL|NULL|         1456000.0|                   NULL|          1456000.0|\n",
            "|mahindra|  xuv700|   automatic| 2.0|diesel|2184.0|62567.0|  1.0|2322000.0|    NULL|   NULL| NULL| NULL|NULL|         4644000.0|                   NULL|          4644000.0|\n",
            "|    ford|ecosport|   automatic| 5.0|petrol|1497.0|58503.0|  1.0| 766000.0|    NULL|   NULL| NULL| NULL|NULL|         1532000.0|                   NULL|          1532000.0|\n",
            "|  maruti|   dzire|      manual| 6.0|petrol|1197.0|58159.0|  1.0| 471000.0|    NULL|   NULL| NULL| NULL|NULL|          942000.0|                   NULL|           942000.0|\n",
            "| hyundai|   grand|      manual| 1.0|petrol|1197.0|15568.0|  1.0| 689000.0|    NULL|   NULL| NULL| NULL|NULL|         1378000.0|                   NULL|          1378000.0|\n",
            "|    tata|   tiago|      manual| 1.0|petrol|1199.0| 6676.0|  1.0| 536000.0|    NULL|   NULL| NULL| NULL|NULL|         1072000.0|                   NULL|          1072000.0|\n",
            "| hyundai|   creta|      manual| 6.0|petrol|  NULL|59085.0|  1.0| 823000.0|    NULL|   NULL| NULL| NULL|NULL|         1646000.0|                   NULL|          1646000.0|\n",
            "|  maruti|    alto|      manual| 6.0|petrol| 998.0|52966.0|  1.0| 310000.0|    NULL|   NULL| NULL| NULL|NULL|          620000.0|                   NULL|           620000.0|\n",
            "| hyundai|   verna|      manual| 4.0|diesel|1582.0|60592.0|  1.0| 993000.0|    NULL|   NULL| NULL| NULL|NULL|         1986000.0|                   NULL|          1986000.0|\n",
            "|  maruti|    alto|   automatic|10.0|petrol| 998.0|71297.0|  1.0| 265000.0|    NULL|   NULL| NULL| NULL|NULL|          530000.0|                   NULL|           530000.0|\n",
            "|   honda|   amaze|      manual| 2.0|petrol|1199.0|15935.0|  1.0| 699000.0|    NULL|   NULL| NULL| NULL|NULL|         1398000.0|                   NULL|          1398000.0|\n",
            "|     kia|  seltos|      manual| 3.0|diesel|1493.0|71040.0|  1.0| 980000.0|    NULL|   NULL| NULL| NULL|NULL|         1960000.0|                   NULL|          1960000.0|\n",
            "| hyundai|   grand|      manual| 1.0|petrol|1197.0| 2850.0|  1.0| 710000.0|    NULL|   NULL| NULL| NULL|NULL|         1420000.0|                   NULL|          1420000.0|\n",
            "+--------+--------+------------+----+------+------+-------+-----+---------+--------+-------+-----+-----+----+------------------+-----------------------+-------------------+\n",
            "only showing top 20 rows\n",
            "\n",
            "+--------+--------+------------+----+------+------+-------+-----+---------+--------+-------+-----+-----+----+------------------+-----------------------+-------------------+-------------------------+\n",
            "|   brand|   model|transmission| age|  fuel|engine|     km|owner|    price|location|mileage|power|seats|type|new_column_pyspark|combined_column_pyspark|nova_coluna_pyspark|combinando_coluna_pyspark|\n",
            "+--------+--------+------------+----+------+------+-------+-----+---------+--------+-------+-----+-----+----+------------------+-----------------------+-------------------+-------------------------+\n",
            "|mahindra|    thar|      manual| 4.0|diesel|2184.0|11003.0|  1.0|1231000.0|    NULL|   NULL| NULL| NULL|NULL|         2462000.0|                   NULL|          2462000.0|                     NULL|\n",
            "| hyundai|   verna|      manual| 6.0|petrol|1591.0|66936.0|  1.0| 786000.0|    NULL|   NULL| NULL| NULL|NULL|         1572000.0|                   NULL|          1572000.0|                     NULL|\n",
            "|    tata| harrier|      manual| 2.0|diesel|1956.0|27990.0|  1.0|1489000.0|    NULL|   NULL| NULL| NULL|NULL|         2978000.0|                   NULL|          2978000.0|                     NULL|\n",
            "|   honda|    city|   automatic| 1.0|petrol|1498.0| 5061.0|  1.0|1227000.0|    NULL|   NULL| NULL| NULL|NULL|         2454000.0|                   NULL|          2454000.0|                     NULL|\n",
            "|    ford|ecosport|      manual| 3.0|diesel|1498.0|23480.0|  1.0| 887000.0|    NULL|   NULL| NULL| NULL|NULL|         1774000.0|                   NULL|          1774000.0|                     NULL|\n",
            "|   honda|    wr-v|      manual| 3.0|petrol|1199.0|44787.0|  1.0| 796000.0|    NULL|   NULL| NULL| NULL|NULL|         1592000.0|                   NULL|          1592000.0|                     NULL|\n",
            "|    tata|   punch|      manual| 2.0|petrol|1199.0|  450.0|  1.0| 813000.0|    NULL|   NULL| NULL| NULL|NULL|         1626000.0|                   NULL|          1626000.0|                     NULL|\n",
            "|    tata|   nexon|   automatic| 4.0|diesel|  NULL|59866.0|  1.0| 728000.0|    NULL|   NULL| NULL| NULL|NULL|         1456000.0|                   NULL|          1456000.0|                     NULL|\n",
            "|mahindra|  xuv700|   automatic| 2.0|diesel|2184.0|62567.0|  1.0|2322000.0|    NULL|   NULL| NULL| NULL|NULL|         4644000.0|                   NULL|          4644000.0|                     NULL|\n",
            "|    ford|ecosport|   automatic| 5.0|petrol|1497.0|58503.0|  1.0| 766000.0|    NULL|   NULL| NULL| NULL|NULL|         1532000.0|                   NULL|          1532000.0|                     NULL|\n",
            "|  maruti|   dzire|      manual| 6.0|petrol|1197.0|58159.0|  1.0| 471000.0|    NULL|   NULL| NULL| NULL|NULL|          942000.0|                   NULL|           942000.0|                     NULL|\n",
            "| hyundai|   grand|      manual| 1.0|petrol|1197.0|15568.0|  1.0| 689000.0|    NULL|   NULL| NULL| NULL|NULL|         1378000.0|                   NULL|          1378000.0|                     NULL|\n",
            "|    tata|   tiago|      manual| 1.0|petrol|1199.0| 6676.0|  1.0| 536000.0|    NULL|   NULL| NULL| NULL|NULL|         1072000.0|                   NULL|          1072000.0|                     NULL|\n",
            "| hyundai|   creta|      manual| 6.0|petrol|  NULL|59085.0|  1.0| 823000.0|    NULL|   NULL| NULL| NULL|NULL|         1646000.0|                   NULL|          1646000.0|                     NULL|\n",
            "|  maruti|    alto|      manual| 6.0|petrol| 998.0|52966.0|  1.0| 310000.0|    NULL|   NULL| NULL| NULL|NULL|          620000.0|                   NULL|           620000.0|                     NULL|\n",
            "| hyundai|   verna|      manual| 4.0|diesel|1582.0|60592.0|  1.0| 993000.0|    NULL|   NULL| NULL| NULL|NULL|         1986000.0|                   NULL|          1986000.0|                     NULL|\n",
            "|  maruti|    alto|   automatic|10.0|petrol| 998.0|71297.0|  1.0| 265000.0|    NULL|   NULL| NULL| NULL|NULL|          530000.0|                   NULL|           530000.0|                     NULL|\n",
            "|   honda|   amaze|      manual| 2.0|petrol|1199.0|15935.0|  1.0| 699000.0|    NULL|   NULL| NULL| NULL|NULL|         1398000.0|                   NULL|          1398000.0|                     NULL|\n",
            "|     kia|  seltos|      manual| 3.0|diesel|1493.0|71040.0|  1.0| 980000.0|    NULL|   NULL| NULL| NULL|NULL|         1960000.0|                   NULL|          1960000.0|                     NULL|\n",
            "| hyundai|   grand|      manual| 1.0|petrol|1197.0| 2850.0|  1.0| 710000.0|    NULL|   NULL| NULL| NULL|NULL|         1420000.0|                   NULL|          1420000.0|                     NULL|\n",
            "+--------+--------+------------+----+------+------+-------+-----+---------+--------+-------+-----+-----+----+------------------+-----------------------+-------------------+-------------------------+\n",
            "only showing top 20 rows\n",
            "\n"
          ]
        }
      ]
    },
    {
      "cell_type": "code",
      "source": [
        "# Ordenação com Pandas\n",
        "df_sorted_ascending_pandas = df.sort_values('price')\n",
        "print(df_sorted_ascending_pandas.head())\n",
        "\n",
        "df_sorted_descending_pandas = df.sort_values('price', ascending=False)\n",
        "print(df_sorted_descending_pandas.head())"
      ],
      "metadata": {
        "colab": {
          "base_uri": "https://localhost:8080/"
        },
        "id": "3iWlyFhvpWuZ",
        "outputId": "8cfbf884-458e-4c01-e625-39704b81baa7"
      },
      "execution_count": 42,
      "outputs": [
        {
          "output_type": "stream",
          "name": "stdout",
          "text": [
            "        brand    model transmission   age    fuel  engine        km  owner  \\\n",
            "16400  maruti  wagon r       manual  21.0  petrol   998.0   80000.0    NaN   \n",
            "4513     tata     nano       manual  13.0  petrol   624.0   65000.0    2.0   \n",
            "4429   maruti      800       manual  20.0  petrol   796.0   12000.0    2.0   \n",
            "5930   maruti      zen       manual  26.0  petrol   993.0   95150.0    3.0   \n",
            "22452  maruti     alto       manual  17.0  petrol   796.0  110000.0    NaN   \n",
            "\n",
            "         price location  mileage  power  seats type  new_column_pandas  \\\n",
            "16400  40000.0      NaN     18.9   67.1    5.0  NaN            80000.0   \n",
            "4513   44000.0     pune     26.0   35.0    4.0  NaN            88000.0   \n",
            "4429   45000.0   jaipur     16.1   37.0    4.0  NaN            90000.0   \n",
            "5930   45000.0   jaipur     17.3   60.0    5.0  NaN            90000.0   \n",
            "22452  45000.0      NaN     19.7   46.3    5.0  NaN            90000.0   \n",
            "\n",
            "      combined_column_pandas  nova_coluna_pandas combinando_coluna_pandas  \n",
            "16400          maruti-petrol             80000.0            maruti-petrol  \n",
            "4513             tata-petrol             88000.0              tata-petrol  \n",
            "4429           maruti-petrol             90000.0            maruti-petrol  \n",
            "5930           maruti-petrol             90000.0            maruti-petrol  \n",
            "22452          maruti-petrol             90000.0            maruti-petrol  \n",
            "              brand    model transmission   age    fuel  engine       km  \\\n",
            "6543           land    rover    automatic   9.0  diesel  2993.0  38467.0   \n",
            "3087           audi       q7    automatic   6.0  diesel  2967.0  11287.0   \n",
            "5335  mercedes-benz  e-class    automatic   6.0  diesel  2987.0  21603.0   \n",
            "9089     land rover    rover    automatic   3.0  petrol  1997.0  13000.0   \n",
            "4155           land    rover    automatic  12.0  diesel  4367.0  66538.0   \n",
            "\n",
            "      owner      price   location  mileage   power  seats type  \\\n",
            "6543    1.0  7066000.0      kochi    12.65  255.00    5.0  NaN   \n",
            "3087    1.0  7036000.0      kochi    12.07  241.40    7.0  NaN   \n",
            "5335    1.0  7015000.0      kochi    13.00  265.00    5.0  NaN   \n",
            "9089    NaN  7000000.0        NaN    12.19  237.36    4.0  NaN   \n",
            "4155    1.0  7000000.0  bangalore    10.20  308.00    7.0  NaN   \n",
            "\n",
            "      new_column_pandas combined_column_pandas  nova_coluna_pandas  \\\n",
            "6543         14132000.0            land-diesel          14132000.0   \n",
            "3087         14072000.0            audi-diesel          14072000.0   \n",
            "5335         14030000.0   mercedes-benz-diesel          14030000.0   \n",
            "9089         14000000.0      land rover-petrol          14000000.0   \n",
            "4155         14000000.0            land-diesel          14000000.0   \n",
            "\n",
            "     combinando_coluna_pandas  \n",
            "6543              land-diesel  \n",
            "3087              audi-diesel  \n",
            "5335     mercedes-benz-diesel  \n",
            "9089        land rover-petrol  \n",
            "4155              land-diesel  \n"
          ]
        }
      ]
    },
    {
      "cell_type": "code",
      "source": [
        "# Ordenação com PySpark\n",
        "df_sorted_ascending_pyspark = df_pyspark.orderBy('price')\n",
        "df_sorted_ascending_pyspark.show()\n",
        "\n",
        "df_sorted_descending_pyspark = df_pyspark.orderBy('price', ascending=False)\n",
        "df_sorted_descending_pyspark.show()"
      ],
      "metadata": {
        "colab": {
          "base_uri": "https://localhost:8080/"
        },
        "id": "fRSC-k3Wp9lX",
        "outputId": "0409feb3-c81d-4c95-93cf-75b4704fcae8"
      },
      "execution_count": 43,
      "outputs": [
        {
          "output_type": "stream",
          "name": "stdout",
          "text": [
            "+-------+-------+------------+----+------+------+--------+-----+-----------------+---------+-------+-----+-----+----+------------------+-----------------------+-------------------+-------------------------+\n",
            "|  brand|  model|transmission| age|  fuel|engine|      km|owner|            price| location|mileage|power|seats|type|new_column_pyspark|combined_column_pyspark|nova_coluna_pyspark|combinando_coluna_pyspark|\n",
            "+-------+-------+------------+----+------+------+--------+-----+-----------------+---------+-------+-----+-----+----+------------------+-----------------------+-------------------+-------------------------+\n",
            "| maruti|wagon r|      manual|21.0|petrol| 998.0| 80000.0| NULL|          40000.0|     NULL|   18.9| 67.1|  5.0|NULL|           80000.0|                   NULL|            80000.0|                     NULL|\n",
            "|   tata|   nano|      manual|13.0|petrol| 624.0| 65000.0|  2.0|          44000.0|     pune|   26.0| 35.0|  4.0|NULL|           88000.0|                   NULL|            88000.0|                     NULL|\n",
            "| maruti|    800|      manual|20.0|petrol| 796.0| 12000.0|  2.0|          45000.0|   jaipur|   16.1| 37.0|  4.0|NULL|           90000.0|                   NULL|            90000.0|                     NULL|\n",
            "|hyundai|   getz|      manual|19.0|petrol|1341.0| 86000.0|  2.0|          45000.0|     pune|   15.3| 83.0|  5.0|NULL|           90000.0|                   NULL|            90000.0|                     NULL|\n",
            "| maruti|    zen|      manual|26.0|petrol| 993.0| 95150.0|  3.0|          45000.0|   jaipur|   17.3| 60.0|  5.0|NULL|           90000.0|                   NULL|            90000.0|                     NULL|\n",
            "| maruti|   alto|      manual|17.0|petrol| 796.0|110000.0| NULL|          45000.0|     NULL|   19.7| 46.3|  5.0|NULL|           90000.0|                   NULL|            90000.0|                     NULL|\n",
            "|   tata|   nano|      manual|14.0|petrol| 624.0| 57000.0|  1.0|          50000.0|   jaipur|   26.0| 35.0|  4.0|NULL|          100000.0|                   NULL|           100000.0|                     NULL|\n",
            "| maruti|    800|      manual|21.0|petrol| 796.0| 52000.0|  1.0|          50000.0|     pune|   16.1| 37.0|  4.0|NULL|          100000.0|                   NULL|           100000.0|                     NULL|\n",
            "| maruti|   alto|      manual|19.0|petrol|1061.0|120000.0| NULL|          50000.0|     NULL|   18.9| 47.0|  5.0|NULL|          100000.0|                   NULL|           100000.0|                     NULL|\n",
            "|  honda|   city|      manual|19.0|petrol|1493.0|110000.0| NULL|          50000.0|     NULL|   13.0|100.0|  5.0|NULL|          100000.0|                   NULL|           100000.0|                     NULL|\n",
            "| maruti|wagon r|      manual|17.0|petrol| 998.0| 50000.0| NULL|          50000.0|     NULL|   18.9| 67.1|  5.0|NULL|          100000.0|                   NULL|           100000.0|                     NULL|\n",
            "| maruti|    800|      manual|22.0|petrol| 796.0| 75000.0|  1.0|          51000.0|   jaipur|   16.1| 37.0|  4.0|NULL|          102000.0|                   NULL|           102000.0|                     NULL|\n",
            "|   tata|   nano|      manual|12.0|petrol| 624.0| 80000.0|  2.0|          53000.0|   jaipur|   25.4| 37.5|  4.0|NULL|          106000.0|                   NULL|           106000.0|                     NULL|\n",
            "| maruti|    zen|      manual|26.0|petrol| 993.0| 95150.0|  3.0|          53000.0|   jaipur|   17.3| 60.0|  5.0|NULL|          106000.0|                   NULL|           106000.0|                     NULL|\n",
            "| maruti|wagon r|      manual|15.0|petrol| 998.0| 45000.0| NULL|          55000.0|     NULL|  21.79|67.05|  5.0|NULL|          110000.0|                   NULL|           110000.0|                     NULL|\n",
            "| maruti|    800|      manual|24.0|petrol| 796.0| 78000.0|  1.0|55000.00000000001|     pune|   16.1| 37.0|  4.0|NULL|110000.00000000001|                   NULL| 110000.00000000001|                     NULL|\n",
            "|   fiat|  siena|      manual|23.0|petrol|1242.0| 70000.0|  3.0|55000.00000000001|   jaipur|    0.0| NULL|  5.0|NULL|110000.00000000001|                   NULL| 110000.00000000001|                     NULL|\n",
            "| maruti|    zen|      manual|22.0|petrol| 993.0| 60000.0|  3.0|55000.00000000001|   mumbai|   17.3| 60.0|  5.0|NULL|110000.00000000001|                   NULL| 110000.00000000001|                     NULL|\n",
            "|   tata|    new|      manual|16.0|diesel|2179.0| 86000.0|  3.0|          60000.0|     pune|  13.93|138.0|  7.0|NULL|          120000.0|                   NULL|           120000.0|                     NULL|\n",
            "|hyundai| accent|      manual|20.0|petrol|1495.0|110000.0|  1.0|          60000.0|hyderabad|   13.2| 94.0|  5.0|NULL|          120000.0|                   NULL|           120000.0|                     NULL|\n",
            "+-------+-------+------------+----+------+------+--------+-----+-----------------+---------+-------+-----+-----+----+------------------+-----------------------+-------------------+-------------------------+\n",
            "only showing top 20 rows\n",
            "\n",
            "+-------------+-------+------------+----+------+------+-------+-----+-----------------+----------+-------+------+-----+----+--------------------+-----------------------+--------------------+-------------------------+\n",
            "|        brand|  model|transmission| age|  fuel|engine|     km|owner|            price|  location|mileage| power|seats|type|  new_column_pyspark|combined_column_pyspark| nova_coluna_pyspark|combinando_coluna_pyspark|\n",
            "+-------------+-------+------------+----+------+------+-------+-----+-----------------+----------+-------+------+-----+----+--------------------+-----------------------+--------------------+-------------------------+\n",
            "|         land|  rover|   automatic| 9.0|diesel|2993.0|38467.0|  1.0|        7066000.0|     kochi|  12.65| 255.0|  5.0|NULL|            1.4132E7|                   NULL|            1.4132E7|                     NULL|\n",
            "|         audi|     q7|   automatic| 6.0|diesel|2967.0|11287.0|  1.0|        7036000.0|     kochi|  12.07| 241.4|  7.0|NULL|            1.4072E7|                   NULL|            1.4072E7|                     NULL|\n",
            "|mercedes-benz|e-class|   automatic| 6.0|diesel|2987.0|21603.0|  1.0|7015000.000000001|     kochi|   13.0| 265.0|  5.0|NULL|1.4030000000000002E7|                   NULL|1.4030000000000002E7|                     NULL|\n",
            "|         land|  rover|   automatic|12.0|diesel|4367.0|66538.0|  1.0|        7000000.0| bangalore|   10.2| 308.0|  7.0|NULL|               1.4E7|                   NULL|               1.4E7|                     NULL|\n",
            "|          bmw|     x5|   automatic| 7.0|diesel|2993.0|15000.0|  1.0|        7000000.0|   chennai|  15.97| 258.0|  5.0|NULL|               1.4E7|                   NULL|               1.4E7|                     NULL|\n",
            "|   land rover|  rover|   automatic| 3.0|petrol|1997.0|13000.0| NULL|        7000000.0|      NULL|  12.19|237.36|  4.0|NULL|               1.4E7|                   NULL|               1.4E7|                     NULL|\n",
            "|mercedes-benz|    gls|   automatic| 4.0|diesel|2987.0|37000.0| NULL|        7000000.0|      NULL|   11.0| 258.0|  7.0|NULL|               1.4E7|                   NULL|               1.4E7|                     NULL|\n",
            "|mercedes-benz|    gls|   automatic| 3.0|petrol|2996.0|28000.0| NULL|        7000000.0|      NULL|    8.9| 333.0|  7.0|NULL|               1.4E7|                   NULL|               1.4E7|                     NULL|\n",
            "|mercedes-benz|    gls|   automatic| 4.0|diesel|2987.0|32000.0| NULL|        7000000.0|      NULL|   11.0| 258.0|  7.0|NULL|               1.4E7|                   NULL|               1.4E7|                     NULL|\n",
            "|        volvo|   xc90|   automatic| 2.0|diesel|1969.0|25500.0| NULL|        6975000.0|      NULL|   17.2| 235.0|  7.0|NULL|             1.395E7|                   NULL|             1.395E7|                     NULL|\n",
            "|   land rover|  rover|   automatic| 2.0|diesel|1999.0|19000.0| NULL|        6975000.0|      NULL|   22.3| 177.0|  5.0|NULL|             1.395E7|                   NULL|             1.395E7|                     NULL|\n",
            "|mercedes-benz|e-class|   automatic| 7.0|diesel|2987.0|15000.0|  1.0|        6950000.0|    mumbai|   13.0| 265.0|  5.0|NULL|              1.39E7|                   NULL|              1.39E7|                     NULL|\n",
            "|mercedes-benz|    gls|   automatic| 3.0|petrol|2996.0|28000.0| NULL|        6950000.0|      NULL|    8.9| 333.0|  7.0|NULL|              1.39E7|                   NULL|              1.39E7|                     NULL|\n",
            "|mercedes-benz|    gls|   automatic| 3.0|petrol|2996.0|10000.0| NULL|        6950000.0|      NULL|    8.9| 333.0|  7.0|NULL|              1.39E7|                   NULL|              1.39E7|                     NULL|\n",
            "|          bmw|      7|   automatic| 4.0|diesel|2993.0|18000.0| NULL|        6900000.0|      NULL|  17.66|355.37|  4.0|NULL|              1.38E7|                   NULL|              1.38E7|                     NULL|\n",
            "|          bmw|      6|   automatic| 6.0|diesel|2993.0|20004.0|  1.0|        6894000.0|     kochi|  17.54| 313.0|  4.0|NULL|            1.3788E7|                   NULL|            1.3788E7|                     NULL|\n",
            "|         audi|     q7|   automatic| 7.0|diesel|2967.0|59500.0|  1.0|        6800000.0|      pune|  14.75| 245.0|  7.0|NULL|              1.36E7|                   NULL|              1.36E7|                     NULL|\n",
            "|         audi|     q7|   automatic| 1.0|diesel|2967.0| 4000.0| NULL|        6800000.0|      NULL|  14.75| 245.0|  7.0|NULL|              1.36E7|                   NULL|              1.36E7|                     NULL|\n",
            "|      porsche|cayenne|   automatic| 8.0|diesel|4134.0|65003.0|  1.0|        6783000.0|coimbatore|   13.6| 382.0|  5.0|NULL|            1.3566E7|                   NULL|            1.3566E7|                     NULL|\n",
            "|          bmw|      7|   automatic| 4.0|diesel|2993.0|50000.0| NULL|        6750000.0|      NULL|  16.77|261.49|  5.0|NULL|              1.35E7|                   NULL|              1.35E7|                     NULL|\n",
            "+-------------+-------+------------+----+------+------+-------+-----+-----------------+----------+-------+------+-----+----+--------------------+-----------------------+--------------------+-------------------------+\n",
            "only showing top 20 rows\n",
            "\n"
          ]
        }
      ]
    }
  ]
}